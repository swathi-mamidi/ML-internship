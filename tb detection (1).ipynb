{
 "cells": [
  {
   "cell_type": "code",
   "execution_count": 57,
   "id": "21deee18",
   "metadata": {},
   "outputs": [],
   "source": [
    "import pandas as pd\n",
    "import numpy as np\n",
    "import matplotlib.pyplot as plt\n",
    "import seaborn as sns\n"
   ]
  },
  {
   "cell_type": "code",
   "execution_count": 58,
   "id": "510b8e02",
   "metadata": {},
   "outputs": [
    {
     "data": {
      "text/html": [
       "<div>\n",
       "<style scoped>\n",
       "    .dataframe tbody tr th:only-of-type {\n",
       "        vertical-align: middle;\n",
       "    }\n",
       "\n",
       "    .dataframe tbody tr th {\n",
       "        vertical-align: top;\n",
       "    }\n",
       "\n",
       "    .dataframe thead th {\n",
       "        text-align: right;\n",
       "    }\n",
       "</style>\n",
       "<table border=\"1\" class=\"dataframe\">\n",
       "  <thead>\n",
       "    <tr style=\"text-align: right;\">\n",
       "      <th></th>\n",
       "      <th>id</th>\n",
       "      <th>name</th>\n",
       "      <th>gender</th>\n",
       "      <th>fever</th>\n",
       "      <th>coughing blood</th>\n",
       "      <th>sputum mixed with blood</th>\n",
       "      <th>nightsweats</th>\n",
       "      <th>chest pain</th>\n",
       "      <th>backpain in certain periods</th>\n",
       "      <th>shortness of breath</th>\n",
       "      <th>weight loss</th>\n",
       "      <th>lumps that appear around armpits</th>\n",
       "      <th>cough and phlegm continuously for 2 weeks</th>\n",
       "      <th>swollen lymph nodes</th>\n",
       "      <th>loss of appetite</th>\n",
       "      <th>tuberculosis yes or no</th>\n",
       "    </tr>\n",
       "  </thead>\n",
       "  <tbody>\n",
       "    <tr>\n",
       "      <th>0</th>\n",
       "      <td>1</td>\n",
       "      <td>Person 1</td>\n",
       "      <td>Female</td>\n",
       "      <td>1</td>\n",
       "      <td>0</td>\n",
       "      <td>0</td>\n",
       "      <td>0</td>\n",
       "      <td>0</td>\n",
       "      <td>0</td>\n",
       "      <td>0</td>\n",
       "      <td>0</td>\n",
       "      <td>0</td>\n",
       "      <td>0</td>\n",
       "      <td>0</td>\n",
       "      <td>0</td>\n",
       "      <td>No</td>\n",
       "    </tr>\n",
       "    <tr>\n",
       "      <th>1</th>\n",
       "      <td>2</td>\n",
       "      <td>Person 2</td>\n",
       "      <td>Male</td>\n",
       "      <td>1</td>\n",
       "      <td>0</td>\n",
       "      <td>0</td>\n",
       "      <td>0</td>\n",
       "      <td>0</td>\n",
       "      <td>0</td>\n",
       "      <td>0</td>\n",
       "      <td>0</td>\n",
       "      <td>0</td>\n",
       "      <td>0</td>\n",
       "      <td>0</td>\n",
       "      <td>0</td>\n",
       "      <td>No</td>\n",
       "    </tr>\n",
       "    <tr>\n",
       "      <th>2</th>\n",
       "      <td>3</td>\n",
       "      <td>Person 3</td>\n",
       "      <td>Female</td>\n",
       "      <td>0</td>\n",
       "      <td>0</td>\n",
       "      <td>0</td>\n",
       "      <td>0</td>\n",
       "      <td>0</td>\n",
       "      <td>0</td>\n",
       "      <td>0</td>\n",
       "      <td>0</td>\n",
       "      <td>1</td>\n",
       "      <td>0</td>\n",
       "      <td>0</td>\n",
       "      <td>0</td>\n",
       "      <td>No</td>\n",
       "    </tr>\n",
       "    <tr>\n",
       "      <th>3</th>\n",
       "      <td>4</td>\n",
       "      <td>Person 4</td>\n",
       "      <td>Male</td>\n",
       "      <td>1</td>\n",
       "      <td>0</td>\n",
       "      <td>0</td>\n",
       "      <td>1</td>\n",
       "      <td>0</td>\n",
       "      <td>0</td>\n",
       "      <td>0</td>\n",
       "      <td>1</td>\n",
       "      <td>0</td>\n",
       "      <td>0</td>\n",
       "      <td>0</td>\n",
       "      <td>0</td>\n",
       "      <td>No</td>\n",
       "    </tr>\n",
       "    <tr>\n",
       "      <th>4</th>\n",
       "      <td>5</td>\n",
       "      <td>Person 5</td>\n",
       "      <td>Female</td>\n",
       "      <td>1</td>\n",
       "      <td>1</td>\n",
       "      <td>0</td>\n",
       "      <td>0</td>\n",
       "      <td>1</td>\n",
       "      <td>0</td>\n",
       "      <td>0</td>\n",
       "      <td>0</td>\n",
       "      <td>0</td>\n",
       "      <td>0</td>\n",
       "      <td>1</td>\n",
       "      <td>0</td>\n",
       "      <td>No</td>\n",
       "    </tr>\n",
       "    <tr>\n",
       "      <th>...</th>\n",
       "      <td>...</td>\n",
       "      <td>...</td>\n",
       "      <td>...</td>\n",
       "      <td>...</td>\n",
       "      <td>...</td>\n",
       "      <td>...</td>\n",
       "      <td>...</td>\n",
       "      <td>...</td>\n",
       "      <td>...</td>\n",
       "      <td>...</td>\n",
       "      <td>...</td>\n",
       "      <td>...</td>\n",
       "      <td>...</td>\n",
       "      <td>...</td>\n",
       "      <td>...</td>\n",
       "      <td>...</td>\n",
       "    </tr>\n",
       "    <tr>\n",
       "      <th>9995</th>\n",
       "      <td>9996</td>\n",
       "      <td>Person 9996</td>\n",
       "      <td>Male</td>\n",
       "      <td>0</td>\n",
       "      <td>0</td>\n",
       "      <td>1</td>\n",
       "      <td>1</td>\n",
       "      <td>0</td>\n",
       "      <td>1</td>\n",
       "      <td>1</td>\n",
       "      <td>1</td>\n",
       "      <td>1</td>\n",
       "      <td>1</td>\n",
       "      <td>0</td>\n",
       "      <td>1</td>\n",
       "      <td>No</td>\n",
       "    </tr>\n",
       "    <tr>\n",
       "      <th>9996</th>\n",
       "      <td>9997</td>\n",
       "      <td>Person 9997</td>\n",
       "      <td>Female</td>\n",
       "      <td>1</td>\n",
       "      <td>0</td>\n",
       "      <td>0</td>\n",
       "      <td>0</td>\n",
       "      <td>0</td>\n",
       "      <td>0</td>\n",
       "      <td>0</td>\n",
       "      <td>0</td>\n",
       "      <td>0</td>\n",
       "      <td>0</td>\n",
       "      <td>0</td>\n",
       "      <td>0</td>\n",
       "      <td>No</td>\n",
       "    </tr>\n",
       "    <tr>\n",
       "      <th>9997</th>\n",
       "      <td>9998</td>\n",
       "      <td>Person 9998</td>\n",
       "      <td>Male</td>\n",
       "      <td>1</td>\n",
       "      <td>0</td>\n",
       "      <td>0</td>\n",
       "      <td>0</td>\n",
       "      <td>0</td>\n",
       "      <td>0</td>\n",
       "      <td>0</td>\n",
       "      <td>0</td>\n",
       "      <td>0</td>\n",
       "      <td>0</td>\n",
       "      <td>0</td>\n",
       "      <td>0</td>\n",
       "      <td>No</td>\n",
       "    </tr>\n",
       "    <tr>\n",
       "      <th>9998</th>\n",
       "      <td>9999</td>\n",
       "      <td>Person 9999</td>\n",
       "      <td>Female</td>\n",
       "      <td>0</td>\n",
       "      <td>0</td>\n",
       "      <td>0</td>\n",
       "      <td>0</td>\n",
       "      <td>0</td>\n",
       "      <td>0</td>\n",
       "      <td>0</td>\n",
       "      <td>0</td>\n",
       "      <td>1</td>\n",
       "      <td>0</td>\n",
       "      <td>0</td>\n",
       "      <td>0</td>\n",
       "      <td>No</td>\n",
       "    </tr>\n",
       "    <tr>\n",
       "      <th>9999</th>\n",
       "      <td>10000</td>\n",
       "      <td>Person 10000</td>\n",
       "      <td>Male</td>\n",
       "      <td>1</td>\n",
       "      <td>1</td>\n",
       "      <td>0</td>\n",
       "      <td>1</td>\n",
       "      <td>1</td>\n",
       "      <td>0</td>\n",
       "      <td>0</td>\n",
       "      <td>1</td>\n",
       "      <td>0</td>\n",
       "      <td>0</td>\n",
       "      <td>1</td>\n",
       "      <td>0</td>\n",
       "      <td>Yes</td>\n",
       "    </tr>\n",
       "  </tbody>\n",
       "</table>\n",
       "<p>10000 rows × 16 columns</p>\n",
       "</div>"
      ],
      "text/plain": [
       "         id          name  gender  fever  coughing blood  \\\n",
       "0         1      Person 1  Female      1               0   \n",
       "1         2      Person 2    Male      1               0   \n",
       "2         3      Person 3  Female      0               0   \n",
       "3         4      Person 4    Male      1               0   \n",
       "4         5      Person 5  Female      1               1   \n",
       "...     ...           ...     ...    ...             ...   \n",
       "9995   9996   Person 9996    Male      0               0   \n",
       "9996   9997   Person 9997  Female      1               0   \n",
       "9997   9998   Person 9998    Male      1               0   \n",
       "9998   9999   Person 9999  Female      0               0   \n",
       "9999  10000  Person 10000    Male      1               1   \n",
       "\n",
       "      sputum mixed with blood  nightsweats  chest pain  \\\n",
       "0                           0            0           0   \n",
       "1                           0            0           0   \n",
       "2                           0            0           0   \n",
       "3                           0            1           0   \n",
       "4                           0            0           1   \n",
       "...                       ...          ...         ...   \n",
       "9995                        1            1           0   \n",
       "9996                        0            0           0   \n",
       "9997                        0            0           0   \n",
       "9998                        0            0           0   \n",
       "9999                        0            1           1   \n",
       "\n",
       "      backpain in certain periods  shortness of breath  weight loss  \\\n",
       "0                               0                    0            0   \n",
       "1                               0                    0            0   \n",
       "2                               0                    0            0   \n",
       "3                               0                    0            1   \n",
       "4                               0                    0            0   \n",
       "...                           ...                  ...          ...   \n",
       "9995                            1                    1            1   \n",
       "9996                            0                    0            0   \n",
       "9997                            0                    0            0   \n",
       "9998                            0                    0            0   \n",
       "9999                            0                    0            1   \n",
       "\n",
       "      lumps that appear around armpits  \\\n",
       "0                                    0   \n",
       "1                                    0   \n",
       "2                                    1   \n",
       "3                                    0   \n",
       "4                                    0   \n",
       "...                                ...   \n",
       "9995                                 1   \n",
       "9996                                 0   \n",
       "9997                                 0   \n",
       "9998                                 1   \n",
       "9999                                 0   \n",
       "\n",
       "      cough and phlegm continuously for 2 weeks  swollen lymph nodes  \\\n",
       "0                                             0                    0   \n",
       "1                                             0                    0   \n",
       "2                                             0                    0   \n",
       "3                                             0                    0   \n",
       "4                                             0                    1   \n",
       "...                                         ...                  ...   \n",
       "9995                                          1                    0   \n",
       "9996                                          0                    0   \n",
       "9997                                          0                    0   \n",
       "9998                                          0                    0   \n",
       "9999                                          0                    1   \n",
       "\n",
       "      loss of appetite tuberculosis yes or no  \n",
       "0                    0                     No  \n",
       "1                    0                     No  \n",
       "2                    0                     No  \n",
       "3                    0                     No  \n",
       "4                    0                     No  \n",
       "...                ...                    ...  \n",
       "9995                 1                     No  \n",
       "9996                 0                     No  \n",
       "9997                 0                     No  \n",
       "9998                 0                     No  \n",
       "9999                 0                    Yes  \n",
       "\n",
       "[10000 rows x 16 columns]"
      ]
     },
     "execution_count": 58,
     "metadata": {},
     "output_type": "execute_result"
    }
   ],
   "source": [
    "df = pd.read_csv(\"C:\\\\Users\\\\Vasudha\\\\Downloads\\\\sample2 (1).csv\")\n",
    "df"
   ]
  },
  {
   "cell_type": "code",
   "execution_count": 59,
   "id": "3fef4de3",
   "metadata": {},
   "outputs": [],
   "source": [
    "df=df.head(5000)"
   ]
  },
  {
   "cell_type": "code",
   "execution_count": null,
   "id": "a4643295",
   "metadata": {},
   "outputs": [],
   "source": []
  },
  {
   "cell_type": "code",
   "execution_count": 60,
   "id": "073c967c",
   "metadata": {},
   "outputs": [
    {
     "data": {
      "text/html": [
       "<div>\n",
       "<style scoped>\n",
       "    .dataframe tbody tr th:only-of-type {\n",
       "        vertical-align: middle;\n",
       "    }\n",
       "\n",
       "    .dataframe tbody tr th {\n",
       "        vertical-align: top;\n",
       "    }\n",
       "\n",
       "    .dataframe thead th {\n",
       "        text-align: right;\n",
       "    }\n",
       "</style>\n",
       "<table border=\"1\" class=\"dataframe\">\n",
       "  <thead>\n",
       "    <tr style=\"text-align: right;\">\n",
       "      <th></th>\n",
       "      <th>id</th>\n",
       "      <th>name</th>\n",
       "      <th>gender</th>\n",
       "      <th>fever</th>\n",
       "      <th>coughing blood</th>\n",
       "      <th>sputum mixed with blood</th>\n",
       "      <th>nightsweats</th>\n",
       "      <th>chest pain</th>\n",
       "      <th>backpain in certain periods</th>\n",
       "      <th>shortness of breath</th>\n",
       "      <th>weight loss</th>\n",
       "      <th>lumps that appear around armpits</th>\n",
       "      <th>cough and phlegm continuously for 2 weeks</th>\n",
       "      <th>swollen lymph nodes</th>\n",
       "      <th>loss of appetite</th>\n",
       "      <th>tuberculosis yes or no</th>\n",
       "    </tr>\n",
       "  </thead>\n",
       "  <tbody>\n",
       "    <tr>\n",
       "      <th>0</th>\n",
       "      <td>1</td>\n",
       "      <td>Person 1</td>\n",
       "      <td>Female</td>\n",
       "      <td>1</td>\n",
       "      <td>0</td>\n",
       "      <td>0</td>\n",
       "      <td>0</td>\n",
       "      <td>0</td>\n",
       "      <td>0</td>\n",
       "      <td>0</td>\n",
       "      <td>0</td>\n",
       "      <td>0</td>\n",
       "      <td>0</td>\n",
       "      <td>0</td>\n",
       "      <td>0</td>\n",
       "      <td>No</td>\n",
       "    </tr>\n",
       "    <tr>\n",
       "      <th>1</th>\n",
       "      <td>2</td>\n",
       "      <td>Person 2</td>\n",
       "      <td>Male</td>\n",
       "      <td>1</td>\n",
       "      <td>0</td>\n",
       "      <td>0</td>\n",
       "      <td>0</td>\n",
       "      <td>0</td>\n",
       "      <td>0</td>\n",
       "      <td>0</td>\n",
       "      <td>0</td>\n",
       "      <td>0</td>\n",
       "      <td>0</td>\n",
       "      <td>0</td>\n",
       "      <td>0</td>\n",
       "      <td>No</td>\n",
       "    </tr>\n",
       "    <tr>\n",
       "      <th>2</th>\n",
       "      <td>3</td>\n",
       "      <td>Person 3</td>\n",
       "      <td>Female</td>\n",
       "      <td>0</td>\n",
       "      <td>0</td>\n",
       "      <td>0</td>\n",
       "      <td>0</td>\n",
       "      <td>0</td>\n",
       "      <td>0</td>\n",
       "      <td>0</td>\n",
       "      <td>0</td>\n",
       "      <td>1</td>\n",
       "      <td>0</td>\n",
       "      <td>0</td>\n",
       "      <td>0</td>\n",
       "      <td>No</td>\n",
       "    </tr>\n",
       "    <tr>\n",
       "      <th>3</th>\n",
       "      <td>4</td>\n",
       "      <td>Person 4</td>\n",
       "      <td>Male</td>\n",
       "      <td>1</td>\n",
       "      <td>0</td>\n",
       "      <td>0</td>\n",
       "      <td>1</td>\n",
       "      <td>0</td>\n",
       "      <td>0</td>\n",
       "      <td>0</td>\n",
       "      <td>1</td>\n",
       "      <td>0</td>\n",
       "      <td>0</td>\n",
       "      <td>0</td>\n",
       "      <td>0</td>\n",
       "      <td>No</td>\n",
       "    </tr>\n",
       "    <tr>\n",
       "      <th>4</th>\n",
       "      <td>5</td>\n",
       "      <td>Person 5</td>\n",
       "      <td>Female</td>\n",
       "      <td>1</td>\n",
       "      <td>1</td>\n",
       "      <td>0</td>\n",
       "      <td>0</td>\n",
       "      <td>1</td>\n",
       "      <td>0</td>\n",
       "      <td>0</td>\n",
       "      <td>0</td>\n",
       "      <td>0</td>\n",
       "      <td>0</td>\n",
       "      <td>1</td>\n",
       "      <td>0</td>\n",
       "      <td>No</td>\n",
       "    </tr>\n",
       "  </tbody>\n",
       "</table>\n",
       "</div>"
      ],
      "text/plain": [
       "   id      name  gender  fever  coughing blood  sputum mixed with blood  \\\n",
       "0   1  Person 1  Female      1               0                        0   \n",
       "1   2  Person 2    Male      1               0                        0   \n",
       "2   3  Person 3  Female      0               0                        0   \n",
       "3   4  Person 4    Male      1               0                        0   \n",
       "4   5  Person 5  Female      1               1                        0   \n",
       "\n",
       "   nightsweats  chest pain  backpain in certain periods  shortness of breath  \\\n",
       "0            0           0                            0                    0   \n",
       "1            0           0                            0                    0   \n",
       "2            0           0                            0                    0   \n",
       "3            1           0                            0                    0   \n",
       "4            0           1                            0                    0   \n",
       "\n",
       "   weight loss  lumps that appear around armpits  \\\n",
       "0            0                                 0   \n",
       "1            0                                 0   \n",
       "2            0                                 1   \n",
       "3            1                                 0   \n",
       "4            0                                 0   \n",
       "\n",
       "   cough and phlegm continuously for 2 weeks  swollen lymph nodes  \\\n",
       "0                                          0                    0   \n",
       "1                                          0                    0   \n",
       "2                                          0                    0   \n",
       "3                                          0                    0   \n",
       "4                                          0                    1   \n",
       "\n",
       "   loss of appetite tuberculosis yes or no  \n",
       "0                 0                     No  \n",
       "1                 0                     No  \n",
       "2                 0                     No  \n",
       "3                 0                     No  \n",
       "4                 0                     No  "
      ]
     },
     "execution_count": 60,
     "metadata": {},
     "output_type": "execute_result"
    }
   ],
   "source": [
    "df.head(5)"
   ]
  },
  {
   "cell_type": "code",
   "execution_count": 61,
   "id": "f9ad3596",
   "metadata": {},
   "outputs": [],
   "source": [
    "df=df.drop(['name'],axis=1)"
   ]
  },
  {
   "cell_type": "code",
   "execution_count": 62,
   "id": "e74de6c6",
   "metadata": {},
   "outputs": [
    {
     "data": {
      "text/html": [
       "<div>\n",
       "<style scoped>\n",
       "    .dataframe tbody tr th:only-of-type {\n",
       "        vertical-align: middle;\n",
       "    }\n",
       "\n",
       "    .dataframe tbody tr th {\n",
       "        vertical-align: top;\n",
       "    }\n",
       "\n",
       "    .dataframe thead th {\n",
       "        text-align: right;\n",
       "    }\n",
       "</style>\n",
       "<table border=\"1\" class=\"dataframe\">\n",
       "  <thead>\n",
       "    <tr style=\"text-align: right;\">\n",
       "      <th></th>\n",
       "      <th>id</th>\n",
       "      <th>gender</th>\n",
       "      <th>fever</th>\n",
       "      <th>coughing blood</th>\n",
       "      <th>sputum mixed with blood</th>\n",
       "      <th>nightsweats</th>\n",
       "      <th>chest pain</th>\n",
       "      <th>backpain in certain periods</th>\n",
       "      <th>shortness of breath</th>\n",
       "      <th>weight loss</th>\n",
       "      <th>lumps that appear around armpits</th>\n",
       "      <th>cough and phlegm continuously for 2 weeks</th>\n",
       "      <th>swollen lymph nodes</th>\n",
       "      <th>loss of appetite</th>\n",
       "      <th>tuberculosis yes or no</th>\n",
       "    </tr>\n",
       "  </thead>\n",
       "  <tbody>\n",
       "    <tr>\n",
       "      <th>0</th>\n",
       "      <td>1</td>\n",
       "      <td>Female</td>\n",
       "      <td>1</td>\n",
       "      <td>0</td>\n",
       "      <td>0</td>\n",
       "      <td>0</td>\n",
       "      <td>0</td>\n",
       "      <td>0</td>\n",
       "      <td>0</td>\n",
       "      <td>0</td>\n",
       "      <td>0</td>\n",
       "      <td>0</td>\n",
       "      <td>0</td>\n",
       "      <td>0</td>\n",
       "      <td>No</td>\n",
       "    </tr>\n",
       "    <tr>\n",
       "      <th>1</th>\n",
       "      <td>2</td>\n",
       "      <td>Male</td>\n",
       "      <td>1</td>\n",
       "      <td>0</td>\n",
       "      <td>0</td>\n",
       "      <td>0</td>\n",
       "      <td>0</td>\n",
       "      <td>0</td>\n",
       "      <td>0</td>\n",
       "      <td>0</td>\n",
       "      <td>0</td>\n",
       "      <td>0</td>\n",
       "      <td>0</td>\n",
       "      <td>0</td>\n",
       "      <td>No</td>\n",
       "    </tr>\n",
       "    <tr>\n",
       "      <th>2</th>\n",
       "      <td>3</td>\n",
       "      <td>Female</td>\n",
       "      <td>0</td>\n",
       "      <td>0</td>\n",
       "      <td>0</td>\n",
       "      <td>0</td>\n",
       "      <td>0</td>\n",
       "      <td>0</td>\n",
       "      <td>0</td>\n",
       "      <td>0</td>\n",
       "      <td>1</td>\n",
       "      <td>0</td>\n",
       "      <td>0</td>\n",
       "      <td>0</td>\n",
       "      <td>No</td>\n",
       "    </tr>\n",
       "    <tr>\n",
       "      <th>3</th>\n",
       "      <td>4</td>\n",
       "      <td>Male</td>\n",
       "      <td>1</td>\n",
       "      <td>0</td>\n",
       "      <td>0</td>\n",
       "      <td>1</td>\n",
       "      <td>0</td>\n",
       "      <td>0</td>\n",
       "      <td>0</td>\n",
       "      <td>1</td>\n",
       "      <td>0</td>\n",
       "      <td>0</td>\n",
       "      <td>0</td>\n",
       "      <td>0</td>\n",
       "      <td>No</td>\n",
       "    </tr>\n",
       "    <tr>\n",
       "      <th>4</th>\n",
       "      <td>5</td>\n",
       "      <td>Female</td>\n",
       "      <td>1</td>\n",
       "      <td>1</td>\n",
       "      <td>0</td>\n",
       "      <td>0</td>\n",
       "      <td>1</td>\n",
       "      <td>0</td>\n",
       "      <td>0</td>\n",
       "      <td>0</td>\n",
       "      <td>0</td>\n",
       "      <td>0</td>\n",
       "      <td>1</td>\n",
       "      <td>0</td>\n",
       "      <td>No</td>\n",
       "    </tr>\n",
       "  </tbody>\n",
       "</table>\n",
       "</div>"
      ],
      "text/plain": [
       "   id  gender  fever  coughing blood  sputum mixed with blood  nightsweats  \\\n",
       "0   1  Female      1               0                        0            0   \n",
       "1   2    Male      1               0                        0            0   \n",
       "2   3  Female      0               0                        0            0   \n",
       "3   4    Male      1               0                        0            1   \n",
       "4   5  Female      1               1                        0            0   \n",
       "\n",
       "   chest pain  backpain in certain periods  shortness of breath  weight loss  \\\n",
       "0           0                            0                    0            0   \n",
       "1           0                            0                    0            0   \n",
       "2           0                            0                    0            0   \n",
       "3           0                            0                    0            1   \n",
       "4           1                            0                    0            0   \n",
       "\n",
       "   lumps that appear around armpits  \\\n",
       "0                                 0   \n",
       "1                                 0   \n",
       "2                                 1   \n",
       "3                                 0   \n",
       "4                                 0   \n",
       "\n",
       "   cough and phlegm continuously for 2 weeks  swollen lymph nodes  \\\n",
       "0                                          0                    0   \n",
       "1                                          0                    0   \n",
       "2                                          0                    0   \n",
       "3                                          0                    0   \n",
       "4                                          0                    1   \n",
       "\n",
       "   loss of appetite tuberculosis yes or no  \n",
       "0                 0                     No  \n",
       "1                 0                     No  \n",
       "2                 0                     No  \n",
       "3                 0                     No  \n",
       "4                 0                     No  "
      ]
     },
     "execution_count": 62,
     "metadata": {},
     "output_type": "execute_result"
    }
   ],
   "source": [
    "df.head()"
   ]
  },
  {
   "cell_type": "code",
   "execution_count": 63,
   "id": "7da6d56c",
   "metadata": {},
   "outputs": [
    {
     "data": {
      "text/plain": [
       "['id',\n",
       " 'gender',\n",
       " 'fever',\n",
       " 'coughing blood',\n",
       " 'sputum mixed with blood',\n",
       " 'nightsweats',\n",
       " 'chest pain',\n",
       " 'backpain in certain periods',\n",
       " 'shortness of breath',\n",
       " 'weight loss',\n",
       " 'lumps that appear around armpits',\n",
       " 'cough and phlegm continuously for 2 weeks',\n",
       " 'swollen lymph nodes',\n",
       " 'loss of appetite',\n",
       " 'tuberculosis yes or no']"
      ]
     },
     "execution_count": 63,
     "metadata": {},
     "output_type": "execute_result"
    }
   ],
   "source": [
    "col=list(df.columns)\n",
    "col"
   ]
  },
  {
   "cell_type": "code",
   "execution_count": 64,
   "id": "175b0d4b",
   "metadata": {},
   "outputs": [
    {
     "data": {
      "text/plain": [
       "id                                            int64\n",
       "gender                                       object\n",
       "fever                                         int64\n",
       "coughing blood                                int64\n",
       "sputum mixed with blood                       int64\n",
       "nightsweats                                   int64\n",
       "chest pain                                    int64\n",
       "backpain in certain periods                   int64\n",
       "shortness of breath                           int64\n",
       "weight loss                                   int64\n",
       "lumps that appear around armpits              int64\n",
       "cough and phlegm continuously for 2 weeks     int64\n",
       "swollen lymph nodes                           int64\n",
       "loss of appetite                              int64\n",
       "tuberculosis yes or no                       object\n",
       "dtype: object"
      ]
     },
     "execution_count": 64,
     "metadata": {},
     "output_type": "execute_result"
    }
   ],
   "source": [
    "df.dtypes"
   ]
  },
  {
   "cell_type": "code",
   "execution_count": 65,
   "id": "3cb6508a",
   "metadata": {},
   "outputs": [],
   "source": [
    "df = pd.get_dummies(df,columns=['gender'],drop_first=True)\n",
    "df.replace({True:1,False:0},inplace=True)"
   ]
  },
  {
   "cell_type": "code",
   "execution_count": 66,
   "id": "00cb668e",
   "metadata": {},
   "outputs": [
    {
     "data": {
      "text/plain": [
       "id                                            int64\n",
       "fever                                         int64\n",
       "coughing blood                                int64\n",
       "sputum mixed with blood                       int64\n",
       "nightsweats                                   int64\n",
       "chest pain                                    int64\n",
       "backpain in certain periods                   int64\n",
       "shortness of breath                           int64\n",
       "weight loss                                   int64\n",
       "lumps that appear around armpits              int64\n",
       "cough and phlegm continuously for 2 weeks     int64\n",
       "swollen lymph nodes                           int64\n",
       "loss of appetite                              int64\n",
       "tuberculosis yes or no                       object\n",
       "gender_Male                                   int64\n",
       "dtype: object"
      ]
     },
     "execution_count": 66,
     "metadata": {},
     "output_type": "execute_result"
    }
   ],
   "source": [
    "df.dtypes"
   ]
  },
  {
   "cell_type": "code",
   "execution_count": 67,
   "id": "b61c6448",
   "metadata": {},
   "outputs": [],
   "source": [
    "x=df.drop(\"tuberculosis yes or no\",axis=1)\n",
    "y=df[\"tuberculosis yes or no\"]"
   ]
  },
  {
   "cell_type": "code",
   "execution_count": 68,
   "id": "f0e5ef52",
   "metadata": {},
   "outputs": [],
   "source": [
    "from sklearn.model_selection import train_test_split"
   ]
  },
  {
   "cell_type": "code",
   "execution_count": 69,
   "id": "49b1538a",
   "metadata": {},
   "outputs": [],
   "source": [
    "x_train,x_test,y_train,y_test=train_test_split(x,y,test_size=0.3)"
   ]
  },
  {
   "cell_type": "code",
   "execution_count": 70,
   "id": "168013a5",
   "metadata": {},
   "outputs": [],
   "source": [
    "from sklearn.preprocessing import StandardScaler    \n",
    "st_x= StandardScaler()    \n",
    "x_train= st_x.fit_transform(x_train.values)    \n",
    "x_test= st_x.transform(x_test.values)"
   ]
  },
  {
   "cell_type": "code",
   "execution_count": 71,
   "id": "847e98db",
   "metadata": {},
   "outputs": [
    {
     "data": {
      "text/plain": [
       "LogisticRegression()"
      ]
     },
     "execution_count": 71,
     "metadata": {},
     "output_type": "execute_result"
    }
   ],
   "source": [
    "from sklearn.linear_model import LogisticRegression  \n",
    "classifier= LogisticRegression()  \n",
    "classifier.fit(x_train, y_train)  "
   ]
  },
  {
   "cell_type": "code",
   "execution_count": 72,
   "id": "cbe27c0e",
   "metadata": {},
   "outputs": [],
   "source": [
    "predictions=classifier.predict(x_test)"
   ]
  },
  {
   "cell_type": "code",
   "execution_count": 73,
   "id": "73585c07",
   "metadata": {},
   "outputs": [
    {
     "data": {
      "text/plain": [
       "'              precision    recall  f1-score   support\\n\\n          No       0.89      0.96      0.92      1297\\n         Yes       0.46      0.24      0.31       203\\n\\n    accuracy                           0.86      1500\\n   macro avg       0.67      0.60      0.62      1500\\nweighted avg       0.83      0.86      0.84      1500\\n'"
      ]
     },
     "execution_count": 73,
     "metadata": {},
     "output_type": "execute_result"
    }
   ],
   "source": [
    "from sklearn.metrics import classification_report\n",
    "\n",
    "\n",
    "classification_report(y_test,predictions)"
   ]
  },
  {
   "cell_type": "code",
   "execution_count": 74,
   "id": "54d115a2",
   "metadata": {},
   "outputs": [
    {
     "data": {
      "text/plain": [
       "0.8586666666666667"
      ]
     },
     "execution_count": 74,
     "metadata": {},
     "output_type": "execute_result"
    }
   ],
   "source": [
    "from sklearn.metrics import accuracy_score\n",
    "accuracy_score(y_test,predictions)\n"
   ]
  },
  {
   "cell_type": "code",
   "execution_count": 75,
   "id": "11cf742f",
   "metadata": {},
   "outputs": [
    {
     "data": {
      "text/plain": [
       "0.8304592592592592"
      ]
     },
     "execution_count": 75,
     "metadata": {},
     "output_type": "execute_result"
    }
   ],
   "source": [
    "from sklearn.metrics import precision_score\n",
    "precision_score(y_test,predictions, average='weighted')\n",
    "                            \n",
    "                            "
   ]
  },
  {
   "cell_type": "code",
   "execution_count": 76,
   "id": "66977ad3",
   "metadata": {},
   "outputs": [
    {
     "data": {
      "text/plain": [
       "0.8387543788554189"
      ]
     },
     "execution_count": 76,
     "metadata": {},
     "output_type": "execute_result"
    }
   ],
   "source": [
    "from sklearn.metrics import f1_score\n",
    "f1_score(y_test,predictions, average='weighted')"
   ]
  },
  {
   "cell_type": "code",
   "execution_count": 77,
   "id": "ab07abaa",
   "metadata": {},
   "outputs": [
    {
     "data": {
      "text/plain": [
       "0.8586666666666667"
      ]
     },
     "execution_count": 77,
     "metadata": {},
     "output_type": "execute_result"
    }
   ],
   "source": [
    "from sklearn.metrics import recall_score\n",
    "recall_score(y_test, predictions, average='weighted')"
   ]
  },
  {
   "cell_type": "markdown",
   "id": "d9a03246",
   "metadata": {},
   "source": [
    "# SVM\n"
   ]
  },
  {
   "cell_type": "code",
   "execution_count": 78,
   "id": "ec68a745",
   "metadata": {},
   "outputs": [
    {
     "data": {
      "text/plain": [
       "tuberculosis yes or no\n",
       "No     4375\n",
       "Yes     625\n",
       "Name: count, dtype: int64"
      ]
     },
     "execution_count": 78,
     "metadata": {},
     "output_type": "execute_result"
    }
   ],
   "source": [
    "df['tuberculosis yes or no'].value_counts()"
   ]
  },
  {
   "cell_type": "code",
   "execution_count": 79,
   "id": "06ec8d29",
   "metadata": {},
   "outputs": [],
   "source": [
    "yes = df[df['tuberculosis yes or no' ] == 'Yes'][0:200]\n",
    "no = df[ df['tuberculosis yes or no']  == 'No'][0:200]"
   ]
  },
  {
   "cell_type": "code",
   "execution_count": 80,
   "id": "aa58524b",
   "metadata": {},
   "outputs": [
    {
     "data": {
      "text/plain": [
       "dtype('int32')"
      ]
     },
     "execution_count": 80,
     "metadata": {},
     "output_type": "execute_result"
    }
   ],
   "source": [
    "# changing to 0,1\n",
    "df['tuberculosis yes or no']= np.where(df['tuberculosis yes or no']=='Yes',1,0)\n",
    "df['tuberculosis yes or no'].dtypes"
   ]
  },
  {
   "cell_type": "code",
   "execution_count": 81,
   "id": "149ef48c",
   "metadata": {},
   "outputs": [],
   "source": [
    "x = df.iloc[:,:-1]\n",
    "y = df.iloc[:,-1]\n"
   ]
  },
  {
   "cell_type": "code",
   "execution_count": 82,
   "id": "01a21881",
   "metadata": {},
   "outputs": [],
   "source": [
    "from sklearn import svm\n",
    "classifier = svm.SVC(kernel = 'linear', gamma = 'auto',C = 2)\n",
    "classifier.fit(x_train,y_train)\n",
    "y_predict=classifier.predict(x_test)"
   ]
  },
  {
   "cell_type": "code",
   "execution_count": 83,
   "id": "4c119ea0",
   "metadata": {},
   "outputs": [
    {
     "data": {
      "text/plain": [
       "'              precision    recall  f1-score   support\\n\\n          No       0.89      0.95      0.92      1297\\n         Yes       0.48      0.29      0.36       203\\n\\n    accuracy                           0.86      1500\\n   macro avg       0.69      0.62      0.64      1500\\nweighted avg       0.84      0.86      0.85      1500\\n'"
      ]
     },
     "execution_count": 83,
     "metadata": {},
     "output_type": "execute_result"
    }
   ],
   "source": [
    "from sklearn.metrics import classification_report\n",
    "classification_report(y_test,y_predict)"
   ]
  },
  {
   "cell_type": "code",
   "execution_count": 84,
   "id": "f38d0736",
   "metadata": {},
   "outputs": [],
   "source": [
    "from sklearn.metrics import confusion_matrix,accuracy_score"
   ]
  },
  {
   "cell_type": "code",
   "execution_count": 85,
   "id": "f1637ada",
   "metadata": {},
   "outputs": [
    {
     "data": {
      "text/plain": [
       "array([[1234,   63],\n",
       "       [ 145,   58]], dtype=int64)"
      ]
     },
     "execution_count": 85,
     "metadata": {},
     "output_type": "execute_result"
    }
   ],
   "source": [
    "confusion_matrix(y_test, y_predict)"
   ]
  },
  {
   "cell_type": "code",
   "execution_count": 86,
   "id": "69a898dd",
   "metadata": {},
   "outputs": [
    {
     "data": {
      "text/plain": [
       "0.8613333333333333"
      ]
     },
     "execution_count": 86,
     "metadata": {},
     "output_type": "execute_result"
    }
   ],
   "source": [
    "accuracy_score(y_test,y_predict)"
   ]
  },
  {
   "cell_type": "code",
   "execution_count": 87,
   "id": "9d4fcd3c",
   "metadata": {},
   "outputs": [
    {
     "data": {
      "text/plain": [
       "0.8386186500778102"
      ]
     },
     "execution_count": 87,
     "metadata": {},
     "output_type": "execute_result"
    }
   ],
   "source": [
    "from sklearn.metrics import precision_score\n",
    "precision_score(y_test,y_predict, average='weighted')"
   ]
  },
  {
   "cell_type": "code",
   "execution_count": 89,
   "id": "2f85d129",
   "metadata": {},
   "outputs": [
    {
     "data": {
      "text/plain": [
       "0.8459105722563621"
      ]
     },
     "execution_count": 89,
     "metadata": {},
     "output_type": "execute_result"
    }
   ],
   "source": [
    "from sklearn.metrics import f1_score\n",
    "f1_score(y_test,y_predict, average='weighted')"
   ]
  },
  {
   "cell_type": "code",
   "execution_count": 91,
   "id": "c8dda53f",
   "metadata": {},
   "outputs": [
    {
     "data": {
      "text/plain": [
       "0.8613333333333333"
      ]
     },
     "execution_count": 91,
     "metadata": {},
     "output_type": "execute_result"
    }
   ],
   "source": [
    "from sklearn.metrics import recall_score\n",
    "recall_score(y_test, y_predict, average='weighted')"
   ]
  },
  {
   "cell_type": "code",
   "execution_count": 30,
   "id": "f2874e45",
   "metadata": {},
   "outputs": [
    {
     "data": {
      "image/png": "[encoded data removed]",
      "text/plain": [
       "<Figure size 432x288 with 2 Axes>"
      ]
     },
     "metadata": {
      "needs_background": "light"
     },
     "output_type": "display_data"
    }
   ],
   "source": [
    "\n",
    "cm = confusion_matrix(y_test, y_predict)\n",
    "\n",
    "sns.heatmap(cm, annot=True, fmt=\"d\", cmap=\"Reds\")\n",
    "\n",
    "plt.xlabel(\"Predicted\")\n",
    "plt.ylabel(\"Actual\")\n",
    "plt.title(\"Confusion Matrix\")\n",
    "plt.show()\n"
   ]
  },
  {
   "cell_type": "markdown",
   "id": "8c5d5bf2",
   "metadata": {},
   "source": [
    "#DECISSION TREE"
   ]
  },
  {
   "cell_type": "code",
   "execution_count": 92,
   "id": "9ee4c2b4",
   "metadata": {},
   "outputs": [
    {
     "data": {
      "text/plain": [
       "DecisionTreeClassifier()"
      ]
     },
     "execution_count": 92,
     "metadata": {},
     "output_type": "execute_result"
    }
   ],
   "source": [
    "from sklearn.tree import DecisionTreeClassifier\n",
    "Classifier =  DecisionTreeClassifier()\n",
    "Classifier.fit(x_train,y_train)"
   ]
  },
  {
   "cell_type": "code",
   "execution_count": 93,
   "id": "bcd57693",
   "metadata": {},
   "outputs": [],
   "source": [
    "y_pred = Classifier.predict(x_test)"
   ]
  },
  {
   "cell_type": "code",
   "execution_count": 94,
   "id": "f10aebeb",
   "metadata": {},
   "outputs": [
    {
     "name": "stdout",
     "output_type": "stream",
     "text": [
      "[[1135  162]\n",
      " [ 168   35]]\n"
     ]
    }
   ],
   "source": [
    "from sklearn.metrics import confusion_matrix\n",
    "print(confusion_matrix(y_test,y_pred))"
   ]
  },
  {
   "cell_type": "code",
   "execution_count": 95,
   "id": "04a3f246",
   "metadata": {},
   "outputs": [
    {
     "name": "stdout",
     "output_type": "stream",
     "text": [
      "0.78\n"
     ]
    }
   ],
   "source": [
    "from sklearn.metrics import accuracy_score\n",
    "print(accuracy_score(y_test,y_pred))"
   ]
  },
  {
   "cell_type": "code",
   "execution_count": 96,
   "id": "38dc74e1",
   "metadata": {},
   "outputs": [
    {
     "data": {
      "text/plain": [
       "0.7772263928224985"
      ]
     },
     "execution_count": 96,
     "metadata": {},
     "output_type": "execute_result"
    }
   ],
   "source": [
    "from sklearn.metrics import precision_score\n",
    "precision_score(y_test,y_pred, average='weighted')"
   ]
  },
  {
   "cell_type": "code",
   "execution_count": 97,
   "id": "fe0bbde3",
   "metadata": {},
   "outputs": [
    {
     "data": {
      "text/plain": [
       "0.7786038461538461"
      ]
     },
     "execution_count": 97,
     "metadata": {},
     "output_type": "execute_result"
    }
   ],
   "source": [
    "from sklearn.metrics import f1_score\n",
    "f1_score(y_test,y_pred, average='weighted')"
   ]
  },
  {
   "cell_type": "code",
   "execution_count": 98,
   "id": "2bbe0514",
   "metadata": {},
   "outputs": [
    {
     "data": {
      "text/plain": [
       "0.78"
      ]
     },
     "execution_count": 98,
     "metadata": {},
     "output_type": "execute_result"
    }
   ],
   "source": [
    "from sklearn.metrics import recall_score\n",
    "recall_score(y_test, y_pred, average='weighted')"
   ]
  },
  {
   "cell_type": "markdown",
   "id": "df31a1cd",
   "metadata": {},
   "source": [
    "RANDOM fOREST"
   ]
  },
  {
   "cell_type": "code",
   "execution_count": 99,
   "id": "7e1531e3",
   "metadata": {},
   "outputs": [
    {
     "data": {
      "text/plain": [
       "RandomForestClassifier(criterion='entropy', n_estimators=5)"
      ]
     },
     "execution_count": 99,
     "metadata": {},
     "output_type": "execute_result"
    }
   ],
   "source": [
    "from sklearn.ensemble import RandomForestClassifier\n",
    "classifier=RandomForestClassifier(n_estimators=5,criterion='entropy')\n",
    "classifier.fit(x_train,y_train)"
   ]
  },
  {
   "cell_type": "code",
   "execution_count": 100,
   "id": "23ad1493",
   "metadata": {},
   "outputs": [],
   "source": [
    "y_predict=classifier.predict(x_test)"
   ]
  },
  {
   "cell_type": "code",
   "execution_count": 101,
   "id": "7807dbcd",
   "metadata": {},
   "outputs": [],
   "source": [
    "from sklearn.metrics import confusion_matrix,classification_report,accuracy_score"
   ]
  },
  {
   "cell_type": "code",
   "execution_count": 102,
   "id": "f9a0aa48",
   "metadata": {},
   "outputs": [
    {
     "data": {
      "text/plain": [
       "array([[1169,  128],\n",
       "       [ 144,   59]], dtype=int64)"
      ]
     },
     "execution_count": 102,
     "metadata": {},
     "output_type": "execute_result"
    }
   ],
   "source": [
    "confusion_matrix(y_test,y_predict)"
   ]
  },
  {
   "cell_type": "code",
   "execution_count": 103,
   "id": "a91746f2",
   "metadata": {},
   "outputs": [
    {
     "data": {
      "text/plain": [
       "0.8186666666666667"
      ]
     },
     "execution_count": 103,
     "metadata": {},
     "output_type": "execute_result"
    }
   ],
   "source": [
    "accuracy_score(y_test,y_predict)"
   ]
  },
  {
   "cell_type": "code",
   "execution_count": 104,
   "id": "20d7f4c9",
   "metadata": {},
   "outputs": [
    {
     "data": {
      "text/plain": [
       "0.8125352589557598"
      ]
     },
     "execution_count": 104,
     "metadata": {},
     "output_type": "execute_result"
    }
   ],
   "source": [
    "from sklearn.metrics import precision_score\n",
    "precision_score(y_test,y_predict, average='weighted')"
   ]
  },
  {
   "cell_type": "code",
   "execution_count": 105,
   "id": "c7efb6d6",
   "metadata": {},
   "outputs": [
    {
     "data": {
      "text/plain": [
       "0.8155028195304057"
      ]
     },
     "execution_count": 105,
     "metadata": {},
     "output_type": "execute_result"
    }
   ],
   "source": [
    "from sklearn.metrics import f1_score\n",
    "f1_score(y_test,y_predict, average='weighted')"
   ]
  },
  {
   "cell_type": "code",
   "execution_count": 107,
   "id": "84d9e81c",
   "metadata": {},
   "outputs": [
    {
     "data": {
      "text/plain": [
       "0.8186666666666667"
      ]
     },
     "execution_count": 107,
     "metadata": {},
     "output_type": "execute_result"
    }
   ],
   "source": [
    "from sklearn.metrics import recall_score\n",
    "recall_score(y_test, y_predict, average='weighted')"
   ]
  },
  {
   "cell_type": "markdown",
   "id": "0485324f",
   "metadata": {},
   "source": [
    "XG BOOST"
   ]
  },
  {
   "cell_type": "code",
   "execution_count": 108,
   "id": "d09238cf",
   "metadata": {},
   "outputs": [
    {
     "data": {
      "text/plain": [
       "Index(['id', 'fever', 'coughing blood', 'sputum mixed with blood',\n",
       "       'nightsweats', 'chest pain', 'backpain in certain periods',\n",
       "       'shortness of breath', 'weight loss',\n",
       "       'lumps that appear around armpits',\n",
       "       'cough and phlegm continuously for 2 weeks', 'swollen lymph nodes',\n",
       "       'loss of appetite', 'tuberculosis yes or no', 'gender_Male'],\n",
       "      dtype='object')"
      ]
     },
     "execution_count": 108,
     "metadata": {},
     "output_type": "execute_result"
    }
   ],
   "source": [
    "df.columns"
   ]
  },
  {
   "cell_type": "code",
   "execution_count": 109,
   "id": "33c3d38d",
   "metadata": {},
   "outputs": [],
   "source": [
    "df['tuberculosis yes or no']=df['tuberculosis yes or no'].replace({'yes':1,\"no\":0})"
   ]
  },
  {
   "cell_type": "code",
   "execution_count": 110,
   "id": "48a75330",
   "metadata": {},
   "outputs": [],
   "source": [
    "from sklearn.model_selection import train_test_split"
   ]
  },
  {
   "cell_type": "code",
   "execution_count": 111,
   "id": "8aec619e",
   "metadata": {},
   "outputs": [],
   "source": [
    "x_train,x_test,y_train,y_test=train_test_split(x,y,test_size=0.3)"
   ]
  },
  {
   "cell_type": "code",
   "execution_count": 112,
   "id": "f8b16e2d",
   "metadata": {},
   "outputs": [
    {
     "data": {
      "text/plain": [
       "XGBClassifier(base_score=None, booster=None, callbacks=None,\n",
       "              colsample_bylevel=None, colsample_bynode=None,\n",
       "              colsample_bytree=None, early_stopping_rounds=None,\n",
       "              enable_categorical=False, eval_metric=None, feature_types=None,\n",
       "              gamma=None, gpu_id=None, grow_policy=None, importance_type=None,\n",
       "              interaction_constraints=None, learning_rate=None, max_bin=None,\n",
       "              max_cat_threshold=None, max_cat_to_onehot=None,\n",
       "              max_delta_step=None, max_depth=None, max_leaves=None,\n",
       "              min_child_weight=None, missing=nan, monotone_constraints=None,\n",
       "              n_estimators=100, n_jobs=None, num_parallel_tree=None,\n",
       "              predictor=None, random_state=None, ...)"
      ]
     },
     "execution_count": 112,
     "metadata": {},
     "output_type": "execute_result"
    }
   ],
   "source": [
    "import xgboost\n",
    "xgboost.XGBClassifier()\n"
   ]
  },
  {
   "cell_type": "code",
   "execution_count": 113,
   "id": "68005c46",
   "metadata": {},
   "outputs": [
    {
     "name": "stdout",
     "output_type": "stream",
     "text": [
      "[15:18:20] WARNING: C:\\buildkite-agent\\builds\\buildkite-windows-cpu-autoscaling-group-i-07593ffd91cd9da33-1\\xgboost\\xgboost-ci-windows\\src\\learner.cc:767: \n",
      "Parameters: { \"colsampl_bytree\" } are not used.\n",
      "\n",
      "[0]\tvalidation_0-auc:0.88527\n",
      "[1]\tvalidation_0-auc:0.88292\n",
      "[2]\tvalidation_0-auc:0.88198\n",
      "[3]\tvalidation_0-auc:0.88286\n",
      "[4]\tvalidation_0-auc:0.87767\n",
      "[5]\tvalidation_0-auc:0.87751\n",
      "[6]\tvalidation_0-auc:0.87488\n",
      "[7]\tvalidation_0-auc:0.87665\n",
      "[8]\tvalidation_0-auc:0.87571\n",
      "[9]\tvalidation_0-auc:0.87409\n"
     ]
    },
    {
     "name": "stderr",
     "output_type": "stream",
     "text": [
      "C:\\Users\\Vasudha\\anaconda3\\lib\\site-packages\\xgboost\\sklearn.py:835: UserWarning: `early_stopping_rounds` in `fit` method is deprecated for better compatibility with scikit-learn, use `early_stopping_rounds` in constructor or`set_params` instead.\n",
      "  warnings.warn(\n"
     ]
    },
    {
     "data": {
      "text/plain": [
       "XGBClassifier(base_score=None, booster=None, callbacks=None,\n",
       "              colsampl_bytree=0.5, colsample_bylevel=None,\n",
       "              colsample_bynode=None, colsample_bytree=None,\n",
       "              early_stopping_rounds=None, enable_categorical=False,\n",
       "              eval_metric='auc', feature_types=None, gamma=None, gpu_id=None,\n",
       "              grow_policy=None, importance_type=None,\n",
       "              interaction_constraints=None, learning_rate=0.1, max_bin=None,\n",
       "              max_cat_threshold=None, max_cat_to_onehot=None,\n",
       "              max_delta_step=None, max_depth=5, max_leaves=None,\n",
       "              min_child_weight=None, missing=nan, monotone_constraints=None,\n",
       "              n_estimators=5000, n_jobs=None, num_parallel_tree=None,\n",
       "              predictor=None, ...)"
      ]
     },
     "execution_count": 113,
     "metadata": {},
     "output_type": "execute_result"
    }
   ],
   "source": [
    "model=xgboost.XGBClassifier(learning_rate=0.1,\n",
    "                            max_depth=5,\n",
    "                            n_estimators=5000,\n",
    "                            subsample=0.5,\n",
    "                            colsampl_bytree=0.5,\n",
    "                            eval_metric='auc',\n",
    "                            verbosity=1)\n",
    "eval_set=[(x_test,y_test)]\n",
    "model.fit(x_train,\n",
    "          y_train,\n",
    "          early_stopping_rounds=10,\n",
    "          eval_set=eval_set,\n",
    "          verbose=True)"
   ]
  },
  {
   "cell_type": "code",
   "execution_count": 114,
   "id": "05c29db5",
   "metadata": {},
   "outputs": [],
   "source": [
    "y_train_predict=model.predict_proba(x_train)[:,1]\n",
    "y_predict=model.predict_proba(x_test)[:,1]"
   ]
  },
  {
   "cell_type": "code",
   "execution_count": 115,
   "id": "4889c8f6",
   "metadata": {},
   "outputs": [],
   "source": [
    "from sklearn.model_selection import GridSearchCV\n",
    "from sklearn.metrics import roc_auc_score"
   ]
  },
  {
   "cell_type": "code",
   "execution_count": 116,
   "id": "155d859d",
   "metadata": {},
   "outputs": [
    {
     "data": {
      "text/plain": [
       "0.890739556159855"
      ]
     },
     "execution_count": 116,
     "metadata": {},
     "output_type": "execute_result"
    }
   ],
   "source": [
    "roc_auc_score(y_train,y_train_predict)"
   ]
  },
  {
   "cell_type": "code",
   "execution_count": 117,
   "id": "781ac2f4",
   "metadata": {},
   "outputs": [],
   "source": [
    "y_pred = model.predict(x_test)"
   ]
  },
  {
   "cell_type": "code",
   "execution_count": 118,
   "id": "4e190404",
   "metadata": {},
   "outputs": [
    {
     "data": {
      "text/plain": [
       "0.8701510538858978"
      ]
     },
     "execution_count": 118,
     "metadata": {},
     "output_type": "execute_result"
    }
   ],
   "source": [
    "from sklearn.metrics import precision_score\n",
    "precision_score(y_test,y_pred, average='weighted')"
   ]
  },
  {
   "cell_type": "code",
   "execution_count": 119,
   "id": "bd914d8a",
   "metadata": {},
   "outputs": [
    {
     "data": {
      "text/plain": [
       "0.8267480892095421"
      ]
     },
     "execution_count": 119,
     "metadata": {},
     "output_type": "execute_result"
    }
   ],
   "source": [
    "from sklearn.metrics import f1_score\n",
    "f1_score(y_test,y_pred, average='weighted')"
   ]
  },
  {
   "cell_type": "code",
   "execution_count": 120,
   "id": "72d85f21",
   "metadata": {},
   "outputs": [
    {
     "data": {
      "text/plain": [
       "0.8313333333333334"
      ]
     },
     "execution_count": 120,
     "metadata": {},
     "output_type": "execute_result"
    }
   ],
   "source": [
    "from sklearn.metrics import recall_score\n",
    "recall_score(y_test, y_pred, average='weighted')"
   ]
  },
  {
   "cell_type": "markdown",
   "id": "4d3be083",
   "metadata": {},
   "source": [
    "KNN"
   ]
  },
  {
   "cell_type": "code",
   "execution_count": 122,
   "id": "42c0126a",
   "metadata": {},
   "outputs": [],
   "source": [
    "from sklearn.neighbors import KNeighborsClassifier\n",
    "knn=KNeighborsClassifier(n_neighbors=100)"
   ]
  },
  {
   "cell_type": "code",
   "execution_count": 123,
   "id": "d5f649e0",
   "metadata": {},
   "outputs": [
    {
     "data": {
      "text/plain": [
       "KNeighborsClassifier(n_neighbors=100)"
      ]
     },
     "execution_count": 123,
     "metadata": {},
     "output_type": "execute_result"
    }
   ],
   "source": [
    "knn.fit(x_train,y_train)"
   ]
  },
  {
   "cell_type": "code",
   "execution_count": 124,
   "id": "53b38f08",
   "metadata": {},
   "outputs": [],
   "source": [
    "y_pred=knn.predict(x_test)"
   ]
  },
  {
   "cell_type": "code",
   "execution_count": 125,
   "id": "9404789c",
   "metadata": {},
   "outputs": [],
   "source": [
    "from sklearn.metrics import confusion_matrix,classification_report"
   ]
  },
  {
   "cell_type": "code",
   "execution_count": 126,
   "id": "c6e0f3c1",
   "metadata": {},
   "outputs": [
    {
     "data": {
      "text/plain": [
       "array([[344, 407],\n",
       "       [406, 343]], dtype=int64)"
      ]
     },
     "execution_count": 126,
     "metadata": {},
     "output_type": "execute_result"
    }
   ],
   "source": [
    "confusion_matrix(y_test,y_pred)"
   ]
  },
  {
   "cell_type": "code",
   "execution_count": 127,
   "id": "2679fbea",
   "metadata": {},
   "outputs": [
    {
     "data": {
      "text/plain": [
       "'              precision    recall  f1-score   support\\n\\n           0       0.46      0.46      0.46       751\\n           1       0.46      0.46      0.46       749\\n\\n    accuracy                           0.46      1500\\n   macro avg       0.46      0.46      0.46      1500\\nweighted avg       0.46      0.46      0.46      1500\\n'"
      ]
     },
     "execution_count": 127,
     "metadata": {},
     "output_type": "execute_result"
    }
   ],
   "source": [
    "classification_report(y_test,y_pred)"
   ]
  },
  {
   "cell_type": "code",
   "execution_count": 128,
   "id": "ab88bd21",
   "metadata": {},
   "outputs": [],
   "source": [
    "from sklearn.metrics import confusion_matrix,classification_report,accuracy_score"
   ]
  },
  {
   "cell_type": "code",
   "execution_count": 129,
   "id": "b307c441",
   "metadata": {},
   "outputs": [
    {
     "data": {
      "text/plain": [
       "0.458"
      ]
     },
     "execution_count": 129,
     "metadata": {},
     "output_type": "execute_result"
    }
   ],
   "source": [
    "accuracy_score(y_test,y_pred)"
   ]
  },
  {
   "cell_type": "code",
   "execution_count": 131,
   "id": "182747a0",
   "metadata": {},
   "outputs": [
    {
     "data": {
      "text/plain": [
       "0.4580008888888889"
      ]
     },
     "execution_count": 131,
     "metadata": {},
     "output_type": "execute_result"
    }
   ],
   "source": [
    "from sklearn.metrics import precision_score\n",
    "precision_score(y_test,y_pred, average='weighted')"
   ]
  },
  {
   "cell_type": "code",
   "execution_count": 132,
   "id": "2110aebe",
   "metadata": {},
   "outputs": [
    {
     "data": {
      "text/plain": [
       "0.458000240888996"
      ]
     },
     "execution_count": 132,
     "metadata": {},
     "output_type": "execute_result"
    }
   ],
   "source": [
    "from sklearn.metrics import f1_score\n",
    "f1_score(y_test,y_pred, average='weighted')"
   ]
  },
  {
   "cell_type": "code",
   "execution_count": 134,
   "id": "a73a1538",
   "metadata": {},
   "outputs": [
    {
     "data": {
      "text/plain": [
       "0.458"
      ]
     },
     "execution_count": 134,
     "metadata": {},
     "output_type": "execute_result"
    }
   ],
   "source": [
    "from sklearn.metrics import recall_score\n",
    "recall_score(y_test, y_pred, average='weighted')"
   ]
  },
  {
   "cell_type": "code",
   "execution_count": null,
   "id": "3b38606f",
   "metadata": {},
   "outputs": [],
   "source": []
  }
 ],
 "metadata": {
  "kernelspec": {
   "display_name": "Python 3 (ipykernel)",
   "language": "python",
   "name": "python3"
  },
  "language_info": {
   "codemirror_mode": {
    "name": "ipython",
    "version": 3
   },
   "file_extension": ".py",
   "mimetype": "text/x-python",
   "name": "python",
   "nbconvert_exporter": "python",
   "pygments_lexer": "ipython3",
   "version": "3.9.7"
  }
 },
 "nbformat": 4,
 "nbformat_minor": 5
}
